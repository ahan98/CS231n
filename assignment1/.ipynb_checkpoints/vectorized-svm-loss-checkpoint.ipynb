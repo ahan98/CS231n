{
 "cells": [
  {
   "cell_type": "code",
   "execution_count": 2,
   "metadata": {},
   "outputs": [],
   "source": [
    "import numpy as np"
   ]
  },
  {
   "cell_type": "code",
   "execution_count": 14,
   "metadata": {},
   "outputs": [],
   "source": [
    "# returns average loss of entire data set\n",
    "def svm_loss_naive(W, X, Y):\n",
    "    \"\"\"\n",
    "    - W is K x (D+1) weight vector (K = # classes, D = # dimensions)\n",
    "        - the +1 is from the bias column vector\n",
    "    - X is (D+1) x N matrix of data points (N = size of data set)\n",
    "        - last row of X is always 1 via bias column trick\n",
    "    - Y is N x 1 column vector of true class for each x_i\n",
    "    \"\"\"\n",
    "    delta = 1.0\n",
    "    loss = 0\n",
    "    scores = W@X # K x N, scores[j][i] = x_i's score for class j\n",
    "    K, N = scores.shape\n",
    "    for image in range(N):\n",
    "        for class_ in range(K):\n",
    "            correct_class = Y[image]\n",
    "            if class_ == correct_class:\n",
    "                continue\n",
    "            loss += max(0, scores[class_][image] - \\\n",
    "                        scores[correct_class][image] + delta)\n",
    "    \n",
    "    return (loss / N) + np.sum(W**2)"
   ]
  },
  {
   "cell_type": "code",
   "execution_count": 70,
   "metadata": {},
   "outputs": [],
   "source": [
    "def svm_loss_vectorized(W, X, Y):\n",
    "    \"\"\"\n",
    "    NOTE: Y is conceputally N x 1, but we store it as a 1-D\n",
    "    array, i.e. 1 x N row vector, so we can pass it as an int\n",
    "    array to choose(). (We could also pass transpose of column\n",
    "    vector.)\n",
    "    \"\"\"\n",
    "    delta = 1.0\n",
    "    scores = W@X\n",
    "    # correct_scores[i] = score of the true class of x_i\n",
    "    correct_scores = np.choose(Y, scores)\n",
    "    scores -= correct_scores\n",
    "    scores[scores != 0] += delta\n",
    "    \n",
    "    avg_loss = np.sum(scores[scores > 0]) / len(Y)\n",
    "    reg = np.sum(W**2)\n",
    "    return avg_loss + reg"
   ]
  },
  {
   "cell_type": "code",
   "execution_count": 44,
   "metadata": {},
   "outputs": [],
   "source": [
    "K = 10    # num classes, labelled 0,...,K-1\n",
    "D = 3072  # dimension of data points\n",
    "N = 50000 # num data points"
   ]
  },
  {
   "cell_type": "code",
   "execution_count": 55,
   "metadata": {},
   "outputs": [],
   "source": [
    "np.random.seed(42)\n",
    "W = np.random.uniform(low=-2, high=2, size=(K,D+1))\n",
    "X = np.random.randint(low=0, high=256, size=(D+1,N))"
   ]
  },
  {
   "cell_type": "code",
   "execution_count": 59,
   "metadata": {},
   "outputs": [
    {
     "data": {
      "text/plain": [
       "(array([[-0.50183952,  1.80285723,  0.92797577, ...,  0.82651948,\n",
       "          0.44002967, -0.74837042],\n",
       "        [-0.91561498,  0.39067313,  1.46438253, ...,  1.50373209,\n",
       "          1.13264012, -1.32752761],\n",
       "        [ 0.04904226, -0.05050077,  0.50036621, ...,  0.14747287,\n",
       "          1.64317972,  1.38621729],\n",
       "        ...,\n",
       "        [ 1.32029239, -1.31638482, -0.51096543, ..., -1.76135111,\n",
       "         -0.4300408 ,  1.58711247],\n",
       "        [-1.03406786,  0.8239031 , -0.79053843, ..., -1.76761338,\n",
       "         -1.76061124, -0.51759439],\n",
       "        [-1.22014414,  1.73912317,  0.32537441, ..., -1.61998803,\n",
       "         -1.90715077,  0.19469569]]),\n",
       " (10, 3073))"
      ]
     },
     "execution_count": 59,
     "metadata": {},
     "output_type": "execute_result"
    }
   ],
   "source": [
    "W, W.shape"
   ]
  },
  {
   "cell_type": "code",
   "execution_count": 60,
   "metadata": {},
   "outputs": [
    {
     "data": {
      "text/plain": [
       "(array([[ 91, 145,  43, ..., 225, 118, 153],\n",
       "        [185,   5,  49, ...,  17, 225,  21],\n",
       "        [ 26,  75, 232, ..., 130, 121, 214],\n",
       "        ...,\n",
       "        [120,   6,  42, ..., 109, 188,  85],\n",
       "        [213, 246, 213, ..., 231, 124,  28],\n",
       "        [ 35, 133, 139, ..., 205,  88,  32]]),\n",
       " (3073, 50000))"
      ]
     },
     "execution_count": 60,
     "metadata": {},
     "output_type": "execute_result"
    }
   ],
   "source": [
    "X, X.shape"
   ]
  },
  {
   "cell_type": "code",
   "execution_count": 63,
   "metadata": {},
   "outputs": [
    {
     "data": {
      "text/plain": [
       "array([4, 2, 8, ..., 7, 1, 8])"
      ]
     },
     "execution_count": 63,
     "metadata": {},
     "output_type": "execute_result"
    }
   ],
   "source": [
    "Y = np.random.randint(low=0, high=K, size=(N,))\n",
    "Y"
   ]
  },
  {
   "cell_type": "code",
   "execution_count": 64,
   "metadata": {},
   "outputs": [
    {
     "data": {
      "text/plain": [
       "(50000,)"
      ]
     },
     "execution_count": 64,
     "metadata": {},
     "output_type": "execute_result"
    }
   ],
   "source": [
    "Y.shape"
   ]
  },
  {
   "cell_type": "code",
   "execution_count": 79,
   "metadata": {},
   "outputs": [
    {
     "name": "stdout",
     "output_type": "stream",
     "text": [
      "Time for Naive:  1.5595473109999602\n",
      "Time for Vectorized:  0.718758213000001\n"
     ]
    }
   ],
   "source": [
    "import timeit\n",
    "\n",
    "start = timeit.default_timer()\n",
    "naive = svm_loss_naive(W,X,Y)\n",
    "stop = timeit.default_timer()\n",
    "print('Time for Naive: ', stop - start)\n",
    "\n",
    "start = timeit.default_timer()\n",
    "vectorized = svm_loss_vectorized(W,X,Y)\n",
    "stop = timeit.default_timer()\n",
    "\n",
    "print('Time for Vectorized: ', stop - start)"
   ]
  },
  {
   "cell_type": "code",
   "execution_count": 81,
   "metadata": {},
   "outputs": [
    {
     "data": {
      "text/plain": [
       "True"
      ]
     },
     "execution_count": 81,
     "metadata": {},
     "output_type": "execute_result"
    }
   ],
   "source": [
    "np.isclose(naive, vectorized)"
   ]
  }
 ],
 "metadata": {
  "kernelspec": {
   "display_name": "Python 3",
   "language": "python",
   "name": "python3"
  },
  "language_info": {
   "codemirror_mode": {
    "name": "ipython",
    "version": 3
   },
   "file_extension": ".py",
   "mimetype": "text/x-python",
   "name": "python",
   "nbconvert_exporter": "python",
   "pygments_lexer": "ipython3",
   "version": "3.8.3"
  }
 },
 "nbformat": 4,
 "nbformat_minor": 4
}
