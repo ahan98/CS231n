{
 "cells": [
  {
   "cell_type": "code",
   "execution_count": 9,
   "metadata": {},
   "outputs": [],
   "source": [
    "import numpy as np"
   ]
  },
  {
   "cell_type": "code",
   "execution_count": 246,
   "metadata": {},
   "outputs": [
    {
     "data": {
      "text/plain": [
       "array([[ 0.2 , -0.5 ,  0.1 ,  2.  ,  1.1 ],\n",
       "       [ 1.5 ,  1.3 ,  2.1 ,  0.  ,  3.2 ],\n",
       "       [ 0.  ,  0.25,  0.2 , -0.3 , -1.2 ]])"
      ]
     },
     "execution_count": 246,
     "metadata": {},
     "output_type": "execute_result"
    }
   ],
   "source": [
    "# W is K x D\n",
    "# K - num classes\n",
    "# D - dimensions of each data point\n",
    "# row i denotes class i's weights for each of the D dimensions\n",
    "# for this example, we have 3 classes, and each data point is 5-D\n",
    "W = np.array([[ 0.2 , -0.5 ,  0.1 ,  2.  ,  1.1 ],\n",
    "           [ 1.5 ,  1.3 ,  2.1 ,  0.  ,  3.2 ],\n",
    "           [ 0.  ,  0.25,  0.2 , -0.3 , -1.2 ]])\n",
    "W"
   ]
  },
  {
   "cell_type": "code",
   "execution_count": 247,
   "metadata": {},
   "outputs": [
    {
     "data": {
      "text/plain": [
       "(3, 5)"
      ]
     },
     "execution_count": 247,
     "metadata": {},
     "output_type": "execute_result"
    }
   ],
   "source": [
    "W.shape"
   ]
  },
  {
   "cell_type": "code",
   "execution_count": 257,
   "metadata": {},
   "outputs": [
    {
     "data": {
      "text/plain": [
       "array([[0.44, 0.03, 0.88, 0.02],\n",
       "       [0.61, 0.09, 0.15, 0.3 ],\n",
       "       [0.92, 0.07, 0.97, 0.16],\n",
       "       [0.62, 0.08, 1.  , 0.33],\n",
       "       [1.  , 1.  , 1.  , 1.  ]])"
      ]
     },
     "execution_count": 257,
     "metadata": {},
     "output_type": "execute_result"
    }
   ],
   "source": [
    "# X is D x N\n",
    "# D - dimensions of each data point,\n",
    "# N - size of data set\n",
    "# column i denotes data point x_i\n",
    "# for this example, we have 4 data points in our dataset\n",
    "\n",
    "X = np.random.rand(4,4)\n",
    "X = np.array([[round(i, 2) for i in row] for row in X])\n",
    "X1 = np.ones((X.shape[1]))\n",
    "X = np.vstack((X,X1))\n",
    "X"
   ]
  },
  {
   "cell_type": "code",
   "execution_count": 258,
   "metadata": {},
   "outputs": [
    {
     "data": {
      "text/plain": [
       "(5, 4)"
      ]
     },
     "execution_count": 258,
     "metadata": {},
     "output_type": "execute_result"
    }
   ],
   "source": [
    "X.shape"
   ]
  },
  {
   "cell_type": "code",
   "execution_count": 250,
   "metadata": {},
   "outputs": [
    {
     "data": {
      "text/plain": [
       "array([2, 0, 1, 0])"
      ]
     },
     "execution_count": 250,
     "metadata": {},
     "output_type": "execute_result"
    }
   ],
   "source": [
    "# Y is N x 1\n",
    "# Y is a column vector where each row stores the true class of x_i\n",
    "Y = np.array([2,0,1,0])\n",
    "Y"
   ]
  },
  {
   "cell_type": "code",
   "execution_count": 220,
   "metadata": {},
   "outputs": [
    {
     "data": {
      "text/plain": [
       "(4,)"
      ]
     },
     "execution_count": 220,
     "metadata": {},
     "output_type": "execute_result"
    }
   ],
   "source": [
    "Y.shape"
   ]
  },
  {
   "cell_type": "code",
   "execution_count": 221,
   "metadata": {},
   "outputs": [
    {
     "data": {
      "text/plain": [
       "array([[ 1.546 ,  1.375 ,  2.5   ,  2.295 ],\n",
       "       [ 6.315 ,  2.21  ,  4.037 ,  5.459 ],\n",
       "       [-0.5435, -0.2785, -0.6585, -1.16  ]])"
      ]
     },
     "execution_count": 221,
     "metadata": {},
     "output_type": "execute_result"
    }
   ],
   "source": [
    "# column i of WX denotes the ith data point, x_i.\n",
    "# row j in column i denotes the score of the jth class for x_i.\n",
    "# in each column, we want to subtract from each row the true class score,\n",
    "# except for the row corresponding to the correct class.\n",
    "WX = W@X\n",
    "WX"
   ]
  },
  {
   "cell_type": "code",
   "execution_count": 222,
   "metadata": {},
   "outputs": [
    {
     "data": {
      "text/plain": [
       "(3, 4)"
      ]
     },
     "execution_count": 222,
     "metadata": {},
     "output_type": "execute_result"
    }
   ],
   "source": [
    "WX.shape"
   ]
  },
  {
   "cell_type": "code",
   "execution_count": 253,
   "metadata": {},
   "outputs": [],
   "source": [
    "# returns average loss of entire data set\n",
    "def svm_loss_naive(W, X, Y):\n",
    "    \"\"\"\n",
    "    - W is K x (D+1) weight vector (K = # classes, D = # dimensions)\n",
    "        - the +1 is from the bias column vector\n",
    "    - X is (D+1) x N matrix of data points (N = size of data set)\n",
    "        - last row of X is always 1 via bias column trick\n",
    "    - Y is N x 1 column vector of true class for each x_i\n",
    "    \"\"\"\n",
    "    delta = 1.0\n",
    "    loss = 0\n",
    "    scores = W@X # K x N, scores[j][i] = x_i's score for class j\n",
    "    K, N = scores.shape\n",
    "    for image in range(N):\n",
    "        for class_ in range(K):\n",
    "            correct_class = Y[image]\n",
    "            if class_ == correct_class:\n",
    "                continue\n",
    "            loss += max(0, scores[class_][image] - \\\n",
    "                        scores[correct_class][image] + delta)\n",
    "    \n",
    "    return (loss / N) + np.sum(W**2)"
   ]
  },
  {
   "cell_type": "code",
   "execution_count": 254,
   "metadata": {},
   "outputs": [
    {
     "ename": "ValueError",
     "evalue": "matmul: Input operand 1 has a mismatch in its core dimension 0, with gufunc signature (n?,k),(k,m?)->(n?,m?) (size 6 is different from 5)",
     "output_type": "error",
     "traceback": [
      "\u001b[0;31m---------------------------------------------------------------------------\u001b[0m",
      "\u001b[0;31mValueError\u001b[0m                                Traceback (most recent call last)",
      "\u001b[0;32m<ipython-input-254-4710a7a7d628>\u001b[0m in \u001b[0;36m<module>\u001b[0;34m\u001b[0m\n\u001b[0;32m----> 1\u001b[0;31m \u001b[0msvm_loss_naive\u001b[0m\u001b[0;34m(\u001b[0m\u001b[0mW\u001b[0m\u001b[0;34m,\u001b[0m\u001b[0mX\u001b[0m\u001b[0;34m,\u001b[0m\u001b[0mY\u001b[0m\u001b[0;34m)\u001b[0m\u001b[0;34m\u001b[0m\u001b[0;34m\u001b[0m\u001b[0m\n\u001b[0m",
      "\u001b[0;32m<ipython-input-253-2e1e821117db>\u001b[0m in \u001b[0;36msvm_loss_naive\u001b[0;34m(W, X, Y)\u001b[0m\n\u001b[1;32m     10\u001b[0m     \u001b[0mdelta\u001b[0m \u001b[0;34m=\u001b[0m \u001b[0;36m1.0\u001b[0m\u001b[0;34m\u001b[0m\u001b[0;34m\u001b[0m\u001b[0m\n\u001b[1;32m     11\u001b[0m     \u001b[0mloss\u001b[0m \u001b[0;34m=\u001b[0m \u001b[0;36m0\u001b[0m\u001b[0;34m\u001b[0m\u001b[0;34m\u001b[0m\u001b[0m\n\u001b[0;32m---> 12\u001b[0;31m     \u001b[0mscores\u001b[0m \u001b[0;34m=\u001b[0m \u001b[0mW\u001b[0m\u001b[0;34m@\u001b[0m\u001b[0mX\u001b[0m \u001b[0;31m# K x N, scores[j][i] = x_i's score for class j\u001b[0m\u001b[0;34m\u001b[0m\u001b[0;34m\u001b[0m\u001b[0m\n\u001b[0m\u001b[1;32m     13\u001b[0m     \u001b[0mK\u001b[0m\u001b[0;34m,\u001b[0m \u001b[0mN\u001b[0m \u001b[0;34m=\u001b[0m \u001b[0mscores\u001b[0m\u001b[0;34m.\u001b[0m\u001b[0mshape\u001b[0m\u001b[0;34m\u001b[0m\u001b[0;34m\u001b[0m\u001b[0m\n\u001b[1;32m     14\u001b[0m     \u001b[0;32mfor\u001b[0m \u001b[0mimage\u001b[0m \u001b[0;32min\u001b[0m \u001b[0mrange\u001b[0m\u001b[0;34m(\u001b[0m\u001b[0mN\u001b[0m\u001b[0;34m)\u001b[0m\u001b[0;34m:\u001b[0m\u001b[0;34m\u001b[0m\u001b[0;34m\u001b[0m\u001b[0m\n",
      "\u001b[0;31mValueError\u001b[0m: matmul: Input operand 1 has a mismatch in its core dimension 0, with gufunc signature (n?,k),(k,m?)->(n?,m?) (size 6 is different from 5)"
     ]
    }
   ],
   "source": [
    "svm_loss_naive(W,X,Y)"
   ]
  },
  {
   "cell_type": "code",
   "execution_count": 235,
   "metadata": {},
   "outputs": [],
   "source": [
    "def svm_loss_vectorized(W, X, Y):\n",
    "    \"\"\"\n",
    "    NOTE: Y is conceputally N x 1, but we store it as a 1-D\n",
    "    array, i.e. 1 x N row vector, so we can pass it as an int\n",
    "    array to choose(). (We could also pass transpose of column\n",
    "    vector.)\n",
    "    \"\"\"\n",
    "    delta = 1.0\n",
    "    scores = W@X\n",
    "    # correct_scores[i] = score of the true class of x_i\n",
    "    correct_scores = np.choose(Y, scores)\n",
    "    scores -= correct_scores\n",
    "    scores[scores != 0] += delta\n",
    "    \n",
    "    avg_loss = np.sum(scores[scores > 0]) / len(Y)\n",
    "    reg = np.sum(W**2)\n",
    "    return avg_loss + reg"
   ]
  },
  {
   "cell_type": "code",
   "execution_count": 234,
   "metadata": {},
   "outputs": [
    {
     "data": {
      "text/plain": [
       "29.969250000000002"
      ]
     },
     "execution_count": 234,
     "metadata": {},
     "output_type": "execute_result"
    }
   ],
   "source": [
    "svm_loss_vectorized(W,X,Y)"
   ]
  },
  {
   "cell_type": "code",
   "execution_count": 227,
   "metadata": {},
   "outputs": [
    {
     "data": {
      "text/plain": [
       "True"
      ]
     },
     "execution_count": 227,
     "metadata": {},
     "output_type": "execute_result"
    }
   ],
   "source": [
    "svm_loss_vectorized(W,X,Y) == svm_loss_naive(W,X,Y)"
   ]
  }
 ],
 "metadata": {
  "kernelspec": {
   "display_name": "Python 3",
   "language": "python",
   "name": "python3"
  },
  "language_info": {
   "codemirror_mode": {
    "name": "ipython",
    "version": 3
   },
   "file_extension": ".py",
   "mimetype": "text/x-python",
   "name": "python",
   "nbconvert_exporter": "python",
   "pygments_lexer": "ipython3",
   "version": "3.8.3"
  }
 },
 "nbformat": 4,
 "nbformat_minor": 4
}
